{
 "cells": [
  {
   "cell_type": "markdown",
   "metadata": {},
   "source": []
  },
  {
   "cell_type": "code",
   "execution_count": 30,
   "metadata": {},
   "outputs": [
    {
     "name": "stdout",
     "output_type": "stream",
     "text": [
      "aveOralM      0\n",
      "Gender        0\n",
      "Age           0\n",
      "Ethnicity     0\n",
      "T_atm         0\n",
      "Humidity      0\n",
      "Cosmetics    29\n",
      "Max1R13       0\n",
      "dtype: int64\n",
      "\n",
      "Mediana de cosmeticos: 0.0\n",
      "Mediana de cosmeticos imputando con la mediana: 0.0\n",
      "<class 'pandas.core.frame.DataFrame'>\n",
      "RangeIndex: 1020 entries, 0 to 1019\n",
      "Data columns (total 8 columns):\n",
      " #   Column     Non-Null Count  Dtype  \n",
      "---  ------     --------------  -----  \n",
      " 0   aveOralM   1020 non-null   float64\n",
      " 1   Gender     1020 non-null   object \n",
      " 2   Age        1020 non-null   object \n",
      " 3   Ethnicity  1020 non-null   object \n",
      " 4   T_atm      1020 non-null   float64\n",
      " 5   Humidity   1020 non-null   float64\n",
      " 6   Cosmetics  1020 non-null   object \n",
      " 7   Max1R13    1020 non-null   float64\n",
      "dtypes: float64(4), object(4)\n",
      "memory usage: 63.9+ KB\n"
     ]
    }
   ],
   "source": [
    "import pandas as pd\n",
    "import numpy as np\n",
    "import matplotlib.pyplot as plt  #Importamos librerías para usar\n",
    "import scipy as scp \n",
    "from scipy import stats\n",
    "import seaborn as sns\n",
    "a = pd.read_csv(\"FLIR_groups1and2.csv\", sep=\";\" , header=2) #cargamos el dataframe\n",
    "#Nos quedamos solamente con las columnas de interés para el proyecto\n",
    "df = a[['Max1R13_1', 'Max1R13_2', 'Max1R13_3', 'Max1R13_4', 'aveOralM', \n",
    "        'Gender', 'Age', 'Ethnicity', 'T_atm', 'Humidity', 'Cosmetics']].copy()\n",
    "\n",
    "#creamos la nueva columna con el valor promediado de Max1R13\n",
    "df['Max1R13'] = df[['Max1R13_1', 'Max1R13_2', 'Max1R13_3', 'Max1R13_4']].mean(axis=1, skipna=True).astype(float)\n",
    "#Eliminamos las columnas de Max1R13 que no son la promediada\n",
    "df.drop(columns=['Max1R13_1', 'Max1R13_2', 'Max1R13_3', 'Max1R13_4'],inplace=True) \n",
    "\n",
    "print(df.isnull().sum()) #Corroboramos si hay datos nulos\n",
    "\n",
    "#Veamos el comportamiento de los valores nulos de Cosmetics y como podemos tratarlos\n",
    "print(f\"\\nMediana de cosmeticos: {a[\"Cosmetics\"].median()}\")\n",
    "\n",
    "b=df['Cosmetics'].fillna(0.0)\n",
    "print(f\"Mediana de cosmeticos imputando con la mediana: {b.median()}\")\n",
    "\n",
    "#procedemos a imputar los valores nulos con la mediana\n",
    "\n",
    "df[\"Cosmetics\"] = df[\"Cosmetics\"].fillna(df['Cosmetics'].median())\n",
    "df[\"Cosmetics\"] = df[\"Cosmetics\"].map({0.0: \"No\", 1.0: \"Sí\"})\n",
    "df.info()"
   ]
  },
  {
   "cell_type": "code",
   "execution_count": 31,
   "metadata": {},
   "outputs": [
    {
     "name": "stdout",
     "output_type": "stream",
     "text": [
      "              media   mediana         SD    varianza       IQR        CV  \\\n",
      "aveOralM  37.028382  36.94000   0.509502    0.259593 -36.57750  0.013760   \n",
      "T_atm     24.115392  24.00000   1.336338    1.785798 -22.70000  0.055414   \n",
      "Humidity  28.723039  26.30000  13.071627  170.867427  -7.70000  0.455092   \n",
      "Max1R13   35.596533  35.54875   0.574888    0.330496 -34.92375  0.016150   \n",
      "\n",
      "               CVM  \n",
      "aveOralM -0.173468  \n",
      "T_atm    -0.086350  \n",
      "Humidity -0.185366  \n",
      "Max1R13  -0.083117  \n"
     ]
    }
   ],
   "source": [
    "# Seleccionar solo las columnas numéricas\n",
    "a_num = df.select_dtypes(include=[np.number])\n",
    "\n",
    "# Crear un DataFrame con las métricas estadísticas\n",
    "metricas1 = pd.DataFrame({\n",
    "    'media': a_num.mean(),\n",
    "    'mediana': a_num.median(),\n",
    "    \n",
    "    'SD': a_num.std(),\n",
    "    \n",
    "    'varianza': a_num.var(),\n",
    "    'IQR': a_num.apply(lambda x: np.percentile(x, 75) - np.percentile(x,50)- np.percentile(x, 25)),\n",
    "    'CV': a_num.std() / a_num.mean(),\n",
    "    'CVM': (a_num.median() - a_num.mean()) / a_num.std()\n",
    "})\n",
    "\n",
    "# Mostrar resultados\n",
    "print(metricas1)\n"
   ]
  },
  {
   "cell_type": "code",
   "execution_count": 32,
   "metadata": {},
   "outputs": [
    {
     "name": "stdout",
     "output_type": "stream",
     "text": [
      "           aveOralM  Gender    Age Ethnicity      T_atm    Humidity Cosmetics  \\\n",
      "Media     37.028382     NaN    NaN       NaN  24.115392   28.723039       NaN   \n",
      "Mediana   36.940000     NaN    NaN       NaN  24.000000   26.300000       NaN   \n",
      "Moda      36.890000  Female  18-20     White  24.000000   30.000000        No   \n",
      "SD         0.509502     NaN    NaN       NaN   1.336338   13.071627       NaN   \n",
      "MAD        0.200000     NaN    NaN       NaN   0.600000    8.900000       NaN   \n",
      "Varianza   0.259593     NaN    NaN       NaN   1.785798  170.867427       NaN   \n",
      "IQR        0.362500     NaN    NaN       NaN   1.300000   18.600000       NaN   \n",
      "CV %       0.013793     NaN    NaN       NaN   0.055681    0.497020       NaN   \n",
      "CVM %      0.005414     NaN    NaN       NaN   0.025000    0.338403       NaN   \n",
      "\n",
      "            Max1R13  \n",
      "Media     35.596533  \n",
      "Mediana   35.548750  \n",
      "Moda      35.677500  \n",
      "SD         0.574888  \n",
      "MAD        0.310000  \n",
      "Varianza   0.330496  \n",
      "IQR        0.625000  \n",
      "CV %       0.016172  \n",
      "CVM %      0.008720  \n"
     ]
    }
   ],
   "source": [
    "from scipy.stats import median_abs_deviation\n",
    "# Columnas numéricas\n",
    "df_num = df.select_dtypes(include=[np.number])\n",
    "\n",
    "# Columnas categóricas (excluimos las numéricas)\n",
    "df_cat = df.select_dtypes(exclude=[np.number])\n",
    "\n",
    "metricas_num = pd.DataFrame({\n",
    "    'Media': df_num.mean(),\n",
    "    'Mediana': df_num.median(),\n",
    "    'Moda': df_num.mode().iloc[0],\n",
    "    'SD': df_num.std(),\n",
    "    'MAD': median_abs_deviation(df_num),\n",
    "    'Varianza': df_num.var(),\n",
    "    'IQR': df_num.quantile(0.75) - df_num.quantile(0.25),\n",
    "    'CV %': (df_num.std() / df_num.median()),\n",
    "    'CVM %': (median_abs_deviation(df_num) / df_num.median())\n",
    "}).T\n",
    "\n",
    "# Métricas para columnas categóricas: solo la Moda es significativa\n",
    "indices = [\"Media\", \"Mediana\", \"Moda\", \"SD\", \"MAD\", \"Varianza\", \"IQR\", \"CV %\", \"CVM %\"]\n",
    "metricas_cat = pd.DataFrame(index=indices, columns=df_cat.columns)\n",
    "metricas_cat.loc[\"Moda\"] = df_cat.apply(lambda x: x.mode().iloc[0] if not x.mode().empty else np.nan)\n",
    "\n",
    "# Unir ambos DataFrames (las columnas no se traslapan)\n",
    "metricas_completas = pd.concat([metricas_num, metricas_cat], axis=1)\n",
    "\n",
    "# Reordenar las columnas según el orden original de df\n",
    "metricas_completas = metricas_completas[df.columns]\n",
    "\n",
    "print(metricas_completas)"
   ]
  }
 ],
 "metadata": {
  "kernelspec": {
   "display_name": "base",
   "language": "python",
   "name": "python3"
  },
  "language_info": {
   "codemirror_mode": {
    "name": "ipython",
    "version": 3
   },
   "file_extension": ".py",
   "mimetype": "text/x-python",
   "name": "python",
   "nbconvert_exporter": "python",
   "pygments_lexer": "ipython3",
   "version": "3.12.9"
  }
 },
 "nbformat": 4,
 "nbformat_minor": 2
}
