{
 "cells": [
  {
   "cell_type": "markdown",
   "metadata": {},
   "source": []
  },
  {
   "cell_type": "code",
   "execution_count": 101,
   "metadata": {},
   "outputs": [
    {
     "name": "stderr",
     "output_type": "stream",
     "text": [
      "C:\\Users\\USUARIO\\AppData\\Local\\Temp\\ipykernel_10468\\1039091646.py:12: SettingWithCopyWarning: \n",
      "A value is trying to be set on a copy of a slice from a DataFrame.\n",
      "Try using .loc[row_indexer,col_indexer] = value instead\n",
      "\n",
      "See the caveats in the documentation: https://pandas.pydata.org/pandas-docs/stable/user_guide/indexing.html#returning-a-view-versus-a-copy\n",
      "  b[\"Cosmetics\"] = b[\"Cosmetics\"].replace((1,0) , (\"si\",\"no\"))\n"
     ]
    },
    {
     "data": {
      "text/plain": [
       "Cosmetics\n",
       "no    641\n",
       "si    298\n",
       "Name: count, dtype: int64"
      ]
     },
     "execution_count": 101,
     "metadata": {},
     "output_type": "execute_result"
    }
   ],
   "source": [
    "import pandas as pd\n",
    "import numpy as np\n",
    "import matplotlib.pyplot as plt\n",
    "import scipy as scp \n",
    "from scipy import stats\n",
    "import seaborn as sns\n",
    "a = pd.read_csv(\"FLIR_groups1and2_listo.csv\", sep=\";\" , header=1)\n",
    "\n",
    "\n",
    "b = a.dropna()\n",
    "\n",
    "b[\"Cosmetics\"] = b[\"Cosmetics\"].replace((1,0) , (\"si\",\"no\"))\n",
    "\n",
    "b[\"Cosmetics\"].value_counts()\n"
   ]
  },
  {
   "cell_type": "code",
   "execution_count": 102,
   "metadata": {},
   "outputs": [
    {
     "name": "stdout",
     "output_type": "stream",
     "text": [
      "              media  mediana        SD  varianza  IQR        CV       CVM\n",
      "Cosmetics  0.316852      0.0  0.465484  0.216675  NaN  1.469091 -0.680693\n"
     ]
    }
   ],
   "source": [
    "# Seleccionar solo las columnas numéricas\n",
    "a_num = a.select_dtypes(include=[np.number]) \n",
    "\n",
    "# Crear un DataFrame con las métricas estadísticas\n",
    "metricas1 = pd.DataFrame({\n",
    "    'media': a_num.mean(),\n",
    "    'mediana': a_num.median(),\n",
    "    \n",
    "    'SD': a_num.std(),\n",
    "    \n",
    "    'varianza': a_num.var(),\n",
    "    'IQR': a_num.apply(lambda x: np.percentile(x, 75) - np.percentile(x,50)- np.percentile(x, 25)),\n",
    "    'CV': a_num.std() / a_num.mean(),\n",
    "    'CVM': (a_num.median() - a_num.mean()) / a_num.std()\n",
    "})\n",
    "\n",
    "# Mostrar resultados\n",
    "print(metricas1)\n"
   ]
  }
 ],
 "metadata": {
  "kernelspec": {
   "display_name": "base",
   "language": "python",
   "name": "python3"
  },
  "language_info": {
   "codemirror_mode": {
    "name": "ipython",
    "version": 3
   },
   "file_extension": ".py",
   "mimetype": "text/x-python",
   "name": "python",
   "nbconvert_exporter": "python",
   "pygments_lexer": "ipython3",
   "version": "3.12.9"
  }
 },
 "nbformat": 4,
 "nbformat_minor": 2
}
