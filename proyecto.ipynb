{
 "cells": [
  {
   "cell_type": "markdown",
   "metadata": {},
   "source": []
  },
  {
   "cell_type": "code",
   "execution_count": 81,
   "metadata": {},
   "outputs": [
    {
     "name": "stdout",
     "output_type": "stream",
     "text": [
      "aveOralM      0\n",
      "Gender        0\n",
      "Age           0\n",
      "Ethnicity     0\n",
      "T_atm         0\n",
      "Humidity      0\n",
      "Cosmetics    29\n",
      "Max1R13       0\n",
      "dtype: int64\n",
      "\n",
      "Mediana de cosmeticos: 0.0\n",
      "Mediana de cosmeticos imputando con la mediana: 0.0\n",
      "<class 'pandas.core.frame.DataFrame'>\n",
      "RangeIndex: 1020 entries, 0 to 1019\n",
      "Data columns (total 8 columns):\n",
      " #   Column     Non-Null Count  Dtype  \n",
      "---  ------     --------------  -----  \n",
      " 0   aveOralM   1020 non-null   float64\n",
      " 1   Gender     1020 non-null   object \n",
      " 2   Age        1020 non-null   object \n",
      " 3   Ethnicity  1020 non-null   object \n",
      " 4   T_atm      1020 non-null   float64\n",
      " 5   Humidity   1020 non-null   float64\n",
      " 6   Cosmetics  1020 non-null   float64\n",
      " 7   Max1R13    1020 non-null   float64\n",
      "dtypes: float64(5), object(3)\n",
      "memory usage: 63.9+ KB\n"
     ]
    }
   ],
   "source": [
    "import pandas as pd\n",
    "import numpy as np\n",
    "import matplotlib.pyplot as plt  #Importamos librerías para usar\n",
    "import scipy as scp \n",
    "from scipy import stats\n",
    "import seaborn as sns\n",
    "a = pd.read_csv(\"FLIR_groups1and2.csv\", sep=\";\" , header=2) #cargamos el dataframe\n",
    "#Nos quedamos solamente con las columnas de interés para el proyecto\n",
    "df = a[['Max1R13_1', 'Max1R13_2', 'Max1R13_3', 'Max1R13_4', 'aveOralM', \n",
    "        'Gender', 'Age', 'Ethnicity', 'T_atm', 'Humidity', 'Cosmetics']].copy()\n",
    "\n",
    "#creamos la nueva columna con el valor promediado de Max1R13\n",
    "df['Max1R13'] = df[['Max1R13_1', 'Max1R13_2', 'Max1R13_3', 'Max1R13_4']].mean(axis=1, skipna=True).astype(float)\n",
    "#Eliminamos las columnas de Max1R13 que no son la promediada\n",
    "df.drop(columns=['Max1R13_1', 'Max1R13_2', 'Max1R13_3', 'Max1R13_4'],inplace=True) \n",
    "\n",
    "print(df.isnull().sum()) #Corroboramos si hay datos nulos\n",
    "\n",
    "#Veamos el comportamiento de los valores nulos de Cosmetics y como podemos tratarlos\n",
    "print(f\"\\nMediana de cosmeticos: {a[\"Cosmetics\"].median()}\")\n",
    "\n",
    "b=df['Cosmetics'].fillna(0.0)\n",
    "print(f\"Mediana de cosmeticos imputando con la mediana: {b.median()}\")\n",
    "\n",
    "#procedemos a imputar los valores nulos con la mediana\n",
    "\n",
    "df[\"Cosmetics\"] = df[\"Cosmetics\"].fillna(0.0)\n",
    "df.info()"
   ]
  },
  {
   "cell_type": "code",
   "execution_count": 80,
   "metadata": {},
   "outputs": [
    {
     "name": "stdout",
     "output_type": "stream",
     "text": [
      "               media   mediana         SD    varianza       IQR        CV  \\\n",
      "aveOralM   37.028382  36.94000   0.509502    0.259593 -36.57750  0.013760   \n",
      "T_atm      24.115392  24.00000   1.336338    1.785798 -22.70000  0.055414   \n",
      "Humidity   28.723039  26.30000  13.071627  170.867427  -7.70000  0.455092   \n",
      "Cosmetics   0.307843   0.00000   0.461828    0.213285   1.00000  1.500205   \n",
      "Max1R13    35.596533  35.54875   0.574888    0.330496 -34.92375  0.016150   \n",
      "\n",
      "                CVM  \n",
      "aveOralM  -0.173468  \n",
      "T_atm     -0.086350  \n",
      "Humidity  -0.185366  \n",
      "Cosmetics -0.666576  \n",
      "Max1R13   -0.083117  \n"
     ]
    }
   ],
   "source": [
    "# Seleccionar solo las columnas numéricas\n",
    "a_num = df.select_dtypes(include=[np.number])\n",
    "\n",
    "# Crear un DataFrame con las métricas estadísticas\n",
    "metricas1 = pd.DataFrame({\n",
    "    'media': a_num.mean(),\n",
    "    'mediana': a_num.median(),\n",
    "    \n",
    "    'SD': a_num.std(),\n",
    "    \n",
    "    'varianza': a_num.var(),\n",
    "    'IQR': a_num.apply(lambda x: np.percentile(x, 75) - np.percentile(x,50)- np.percentile(x, 25)),\n",
    "    'CV': a_num.std() / a_num.mean(),\n",
    "    'CVM': (a_num.median() - a_num.mean()) / a_num.std()\n",
    "})\n",
    "\n",
    "# Mostrar resultados\n",
    "print(metricas1)\n"
   ]
  }
 ],
 "metadata": {
  "kernelspec": {
   "display_name": "base",
   "language": "python",
   "name": "python3"
  },
  "language_info": {
   "codemirror_mode": {
    "name": "ipython",
    "version": 3
   },
   "file_extension": ".py",
   "mimetype": "text/x-python",
   "name": "python",
   "nbconvert_exporter": "python",
   "pygments_lexer": "ipython3",
   "version": "3.12.9"
  }
 },
 "nbformat": 4,
 "nbformat_minor": 2
}
